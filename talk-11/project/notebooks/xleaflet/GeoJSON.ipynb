{
 "cells": [
  {
   "cell_type": "markdown",
   "metadata": {},
   "source": [
    "![xleaflet](images/xleaflet.png)"
   ]
  },
  {
   "cell_type": "markdown",
   "metadata": {},
   "source": [
    "<center> <h1>C++ backend for the jupyter-leaflet map visualization library</h1> </center>"
   ]
  },
  {
   "cell_type": "markdown",
   "metadata": {},
   "source": [
    "<center> <h1>GeoJSON</h1> </center>"
   ]
  },
  {
   "cell_type": "code",
   "execution_count": null,
   "metadata": {},
   "outputs": [],
   "source": [
    "#include <iostream>\n",
    "#include <string>\n",
    "#include <fstream>\n",
    "\n",
    "#include \"xleaflet/xmap.hpp\"\n",
    "#include \"xleaflet/xbasemaps.hpp\"\n",
    "#include \"xleaflet/xgeo_json.hpp\""
   ]
  },
  {
   "cell_type": "code",
   "execution_count": null,
   "metadata": {},
   "outputs": [],
   "source": [
    "auto black_and_white = xlf::basemap({\"OpenStreetMap\", \"BlackAndWhite\"});\n",
    "\n",
    "auto map = xlf::map::initialize()\n",
    "    .layers({black_and_white})\n",
    "    .center({34.6252978589571, -77.34580993652344})\n",
    "    .zoom(10)\n",
    "    .finalize();\n",
    "\n",
    "map"
   ]
  },
  {
   "cell_type": "markdown",
   "metadata": {},
   "source": [
    "## Load a local json file"
   ]
  },
  {
   "cell_type": "code",
   "execution_count": null,
   "metadata": {},
   "outputs": [],
   "source": [
    "std::ifstream file(\"geo.json\");\n",
    "nl::json geo_data;\n",
    "file >> geo_data;"
   ]
  },
  {
   "cell_type": "code",
   "execution_count": null,
   "metadata": {},
   "outputs": [],
   "source": [
    "for (auto& feature: geo_data[\"features\"])\n",
    "{\n",
    "    feature[\"properties\"][\"style\"] = {\n",
    "        {\"weight\", 1},\n",
    "        {\"fillOpacity\", 0.5}\n",
    "    };\n",
    "}"
   ]
  },
  {
   "cell_type": "code",
   "execution_count": null,
   "metadata": {},
   "outputs": [],
   "source": [
    "void print_event_callback(nl::json event)\n",
    "{\n",
    "    std::cout << event.dump(4);\n",
    "}"
   ]
  },
  {
   "cell_type": "code",
   "execution_count": null,
   "metadata": {},
   "outputs": [],
   "source": [
    "auto geo_json = xlf::geo_json::initialize()\n",
    "    .data(geo_data)\n",
    "    .finalize();\n",
    "// geo_json.on_hover(print_event_callback);\n",
    "// geo_json.on_click(print_event_callback);\n",
    "map.add_layer(geo_json);"
   ]
  }
 ],
 "metadata": {
  "kernelspec": {
   "display_name": "C++14",
   "language": "C++14",
   "name": "xcpp14"
  },
  "language_info": {
   "codemirror_mode": "text/x-c++src",
   "file_extension": ".cpp",
   "mimetype": "text/x-c++src",
   "name": "c++",
   "version": "14"
  }
 },
 "nbformat": 4,
 "nbformat_minor": 4
}
