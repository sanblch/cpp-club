{
 "cells": [
  {
   "cell_type": "markdown",
   "metadata": {},
   "source": [
    "![xleaflet](images/xleaflet.png)"
   ]
  },
  {
   "cell_type": "markdown",
   "metadata": {},
   "source": [
    "<center> <h1>C++ backend for the jupyter-leaflet map visualization library</h1> </center>"
   ]
  },
  {
   "cell_type": "markdown",
   "metadata": {},
   "source": [
    "<center> <h1>Heatmap</h1> </center>"
   ]
  },
  {
   "cell_type": "code",
   "execution_count": null,
   "metadata": {},
   "outputs": [],
   "source": [
    "#include <random>\n",
    "#include <array>\n",
    "#include <vector>\n",
    "#include <thread>\n",
    "#include <chrono>\n",
    "\n",
    "#include \"xtensor/xarray.hpp\"\n",
    "#include \"xtensor/xview.hpp\"\n",
    "#include \"xtensor/xio.hpp\"\n",
    "\n",
    "#include \"xleaflet/xmap.hpp\"\n",
    "#include \"xleaflet/xheatmap.hpp\""
   ]
  },
  {
   "cell_type": "code",
   "execution_count": null,
   "metadata": {},
   "outputs": [],
   "source": [
    "auto map = xlf::map::initialize()\n",
    "    .center({37.58, 261.65})\n",
    "    .zoom(5)\n",
    "    .finalize();\n",
    "map"
   ]
  },
  {
   "cell_type": "code",
   "execution_count": null,
   "metadata": {},
   "outputs": [],
   "source": [
    "std::random_device rd;\n",
    "std::mt19937 mt(rd());\n",
    "std::uniform_real_distribution<double> rd_latitude(34.0, 40.0);\n",
    "std::uniform_real_distribution<double> rd_longitude(255.0, 265.0);\n",
    "std::uniform_real_distribution<double> rd_intensity(0.0, 1000.0);"
   ]
  },
  {
   "cell_type": "code",
   "execution_count": null,
   "metadata": {},
   "outputs": [],
   "source": [
    "xt::xtensor<double, 2> locations({100, 3});"
   ]
  },
  {
   "cell_type": "code",
   "execution_count": null,
   "metadata": {},
   "outputs": [],
   "source": [
    "auto lats = xt::view(locations, xt::all(), 0);\n",
    "auto lngs = xt::view(locations, xt::all(), 1);\n",
    "auto ints = xt::view(locations, xt::all(), 2);"
   ]
  },
  {
   "cell_type": "code",
   "execution_count": null,
   "metadata": {},
   "outputs": [],
   "source": [
    "auto lats_it = lats.begin();\n",
    "auto lngs_it = lngs.begin();\n",
    "auto ints_it = ints.begin();\n",
    "\n",
    "for (; lats_it != lats.end(); ++lats_it, ++lngs_it, ++ints_it)\n",
    "{\n",
    "    *lats_it = rd_latitude(mt);\n",
    "    *lngs_it = rd_longitude(mt);\n",
    "    *ints_it = rd_intensity(mt);\n",
    "}"
   ]
  },
  {
   "cell_type": "code",
   "execution_count": null,
   "metadata": {},
   "outputs": [],
   "source": [
    "xt::view(locations, 0)"
   ]
  },
  {
   "cell_type": "code",
   "execution_count": null,
   "metadata": {},
   "outputs": [],
   "source": [
    "auto heatmap = xlf::heatmap::initialize()\n",
    "    .locations(locations)\n",
    "    .finalize();"
   ]
  },
  {
   "cell_type": "code",
   "execution_count": null,
   "metadata": {},
   "outputs": [],
   "source": [
    "map.add_layer(heatmap);"
   ]
  },
  {
   "cell_type": "code",
   "execution_count": null,
   "metadata": {},
   "outputs": [],
   "source": [
    "for(std::size_t i = 0; i < 15; ++i)\n",
    "{\n",
    "    ints -= 100;\n",
    "    heatmap.locations = locations;\n",
    "    std::this_thread::sleep_for(std::chrono::seconds(1));\n",
    "}"
   ]
  },
  {
   "cell_type": "code",
   "execution_count": null,
   "metadata": {},
   "outputs": [],
   "source": [
    "heatmap.radius = 20;"
   ]
  },
  {
   "cell_type": "code",
   "execution_count": null,
   "metadata": {},
   "outputs": [],
   "source": [
    "xt::view(locations, 0)"
   ]
  }
 ],
 "metadata": {
  "kernelspec": {
   "display_name": "C++14",
   "language": "C++14",
   "name": "xcpp14"
  },
  "language_info": {
   "codemirror_mode": "text/x-c++src",
   "file_extension": ".cpp",
   "mimetype": "text/x-c++src",
   "name": "c++",
   "version": "-std=c++14"
  }
 },
 "nbformat": 4,
 "nbformat_minor": 4
}
