{
 "cells": [
  {
   "cell_type": "markdown",
   "metadata": {},
   "source": [
    "![xleaflet](images/xleaflet.png)"
   ]
  },
  {
   "cell_type": "markdown",
   "metadata": {},
   "source": [
    "<center> <h1>C++ backend for the jupyter-leaflet map visualization library</h1> </center>"
   ]
  },
  {
   "cell_type": "markdown",
   "metadata": {},
   "source": [
    "<center> <h1>Geometry</h1> </center>"
   ]
  },
  {
   "cell_type": "code",
   "execution_count": null,
   "metadata": {},
   "outputs": [],
   "source": [
    "#include \"xtensor/xarray.hpp\"\n",
    "#include \"xtensor/xio.hpp\"\n",
    "\n",
    "#include \"xleaflet/xmap.hpp\"\n",
    "#include \"xleaflet/xbasemaps.hpp\"\n",
    "#include \"xleaflet/xcircle.hpp\"\n",
    "#include \"xleaflet/xcircle_marker.hpp\"\n",
    "#include \"xleaflet/xpolygon.hpp\""
   ]
  },
  {
   "cell_type": "code",
   "execution_count": null,
   "metadata": {},
   "outputs": [],
   "source": [
    "auto terrain = xlf::basemap({\"Stamen\", \"Terrain\"});\n",
    "\n",
    "auto map = xlf::map::initialize()\n",
    "    .layers({terrain})\n",
    "    .center({53, 354})\n",
    "    .zoom(5)\n",
    "    .finalize();\n",
    "\n",
    "map"
   ]
  },
  {
   "cell_type": "markdown",
   "metadata": {},
   "source": [
    "## Create a ``circle`` with a radius in meters"
   ]
  },
  {
   "cell_type": "code",
   "execution_count": null,
   "metadata": {},
   "outputs": [],
   "source": [
    "auto circle = xlf::circle::initialize()\n",
    "    .location({50, 354})\n",
    "    .radius(50000)\n",
    "    .color(\"green\")\n",
    "    .fill_color(\"green\")\n",
    "    .finalize();\n",
    "\n",
    "map.add_layer(circle);"
   ]
  },
  {
   "cell_type": "markdown",
   "metadata": {},
   "source": [
    "## Create a ``circle_marker`` with a radius in pixels"
   ]
  },
  {
   "cell_type": "code",
   "execution_count": null,
   "metadata": {},
   "outputs": [],
   "source": [
    "auto circle_marker = xlf::circle_marker::initialize()\n",
    "    .location({55, 360})\n",
    "    .radius(50)\n",
    "    .color(\"red\")\n",
    "    .fill_color(\"red\")\n",
    "    .finalize();\n",
    "\n",
    "map.add_layer(circle_marker);"
   ]
  },
  {
   "cell_type": "code",
   "execution_count": null,
   "metadata": {},
   "outputs": [],
   "source": [
    "circle_marker.radius = 100;"
   ]
  },
  {
   "cell_type": "markdown",
   "metadata": {},
   "source": [
    "## Create a ``polygon`` using ``xtensor``"
   ]
  },
  {
   "cell_type": "code",
   "execution_count": null,
   "metadata": {},
   "outputs": [],
   "source": [
    "xt::xarray<int> locations = {{55, 360}, {50, 354}, {53, 354}};\n",
    "auto polygon = xlf::polygon();\n",
    "polygon.locations = locations;\n",
    "\n",
    "map.add_layer(polygon);"
   ]
  }
 ],
 "metadata": {
  "kernelspec": {
   "display_name": "C++14",
   "language": "C++14",
   "name": "xcpp14"
  },
  "language_info": {
   "codemirror_mode": "text/x-c++src",
   "file_extension": ".cpp",
   "mimetype": "text/x-c++src",
   "name": "c++",
   "version": "-std=c++14"
  }
 },
 "nbformat": 4,
 "nbformat_minor": 4
}
