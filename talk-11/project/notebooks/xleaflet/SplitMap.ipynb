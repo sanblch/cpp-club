{
 "cells": [
  {
   "cell_type": "markdown",
   "metadata": {},
   "source": [
    "![xleaflet](images/xleaflet.png)"
   ]
  },
  {
   "cell_type": "markdown",
   "metadata": {},
   "source": [
    "<center> <h1>C++ backend for the jupyter-leaflet map visualization library</h1> </center>"
   ]
  },
  {
   "cell_type": "markdown",
   "metadata": {},
   "source": [
    "<center> <h1>Split Map Control</h1> </center>"
   ]
  },
  {
   "cell_type": "code",
   "execution_count": null,
   "metadata": {},
   "outputs": [],
   "source": [
    "#include \"xleaflet/xmap.hpp\"\n",
    "#include \"xleaflet/xbasemaps.hpp\"\n",
    "#include \"xleaflet/xsplit_map_control.hpp\""
   ]
  },
  {
   "cell_type": "code",
   "execution_count": null,
   "metadata": {},
   "outputs": [],
   "source": [
    "auto map = xlf::map::initialize()\n",
    "    .center({42.6824, 365.581})\n",
    "    .zoom(5)\n",
    "    .finalize();\n",
    "\n",
    "map"
   ]
  },
  {
   "cell_type": "code",
   "execution_count": null,
   "metadata": {},
   "outputs": [],
   "source": [
    "auto right_layer = xlf::basemap({\"NASAGIBS\", \"ModisTerraTrueColorCR\"}, \"2017-11-11\");\n",
    "auto left_layer = xlf::basemap({\"NASAGIBS\", \"ModisAquaBands721CR\"}, \"2017-11-11\");"
   ]
  },
  {
   "cell_type": "code",
   "execution_count": null,
   "metadata": {},
   "outputs": [],
   "source": [
    "auto control = xlf::split_map_control::initialize()\n",
    "    .left_layer(left_layer)\n",
    "    .right_layer(right_layer)\n",
    "    .finalize();\n",
    "map.add_control(control)"
   ]
  }
 ],
 "metadata": {
  "kernelspec": {
   "display_name": "C++14",
   "language": "C++14",
   "name": "xcpp14"
  },
  "language_info": {
   "codemirror_mode": "text/x-c++src",
   "file_extension": ".cpp",
   "mimetype": "text/x-c++src",
   "name": "c++",
   "version": "-std=c++14"
  }
 },
 "nbformat": 4,
 "nbformat_minor": 4
}
