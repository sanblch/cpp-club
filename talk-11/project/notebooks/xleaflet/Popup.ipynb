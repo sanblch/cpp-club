{
 "cells": [
  {
   "cell_type": "markdown",
   "metadata": {},
   "source": [
    "![xleaflet](images/xleaflet.png)"
   ]
  },
  {
   "cell_type": "markdown",
   "metadata": {},
   "source": [
    "<center> <h1>C++ backend for the jupyter-leaflet map visualization library</h1> </center>"
   ]
  },
  {
   "cell_type": "markdown",
   "metadata": {},
   "source": [
    "<center> <h1>Popup</h1> </center>"
   ]
  },
  {
   "cell_type": "code",
   "execution_count": null,
   "metadata": {},
   "outputs": [],
   "source": [
    "#include \"xwidgets/xbutton.hpp\"\n",
    "#include \"xwidgets/xhtml.hpp\"\n",
    "\n",
    "#include \"xleaflet/xmap.hpp\"\n",
    "#include \"xleaflet/xbasemaps.hpp\"\n",
    "#include \"xleaflet/xmarker.hpp\"\n",
    "#include \"xleaflet/xpopup.hpp\""
   ]
  },
  {
   "cell_type": "code",
   "execution_count": null,
   "metadata": {},
   "outputs": [],
   "source": [
    "std::array<double, 2> center = {52.204793, 360.121558};\n",
    "\n",
    "auto map = xlf::map::initialize()\n",
    "    .center(center)\n",
    "    .zoom(9)\n",
    "    .close_popup_on_click(false)\n",
    "    .finalize();\n",
    "map.display();\n",
    "\n",
    "auto marker = xlf::marker::initialize()\n",
    "    .location({52.1, 359.9})\n",
    "    .finalize();\n",
    "map.add_layer(marker);"
   ]
  },
  {
   "cell_type": "code",
   "execution_count": null,
   "metadata": {},
   "outputs": [],
   "source": [
    "auto hidden_layer = xlf::basemap({\"Esri\", \"WorldStreetMap\"});\n",
    "hidden_layer.visible = false;\n",
    "map.add_layer(hidden_layer);"
   ]
  },
  {
   "cell_type": "code",
   "execution_count": null,
   "metadata": {},
   "outputs": [],
   "source": [
    "void layer_visibility()\n",
    "{\n",
    "    hidden_layer.visible = !hidden_layer.visible;\n",
    "}\n",
    "\n",
    "xw::button button;\n",
    "button.description = \"Click me!\";\n",
    "button.button_style = \"success\";\n",
    "button.on_click(layer_visibility);\n",
    "\n",
    "xw::html html;\n",
    "html.value = \"Hello <b>World</b>\";\n",
    "html.placeholder = \"Some HTML\";\n",
    "html.description = \"Some HTML\";"
   ]
  },
  {
   "cell_type": "markdown",
   "metadata": {},
   "source": [
    "## Popup with a given location on the map"
   ]
  },
  {
   "cell_type": "code",
   "execution_count": null,
   "metadata": {},
   "outputs": [],
   "source": [
    "auto popup = xlf::popup::initialize()\n",
    "    .location(center)\n",
    "    .child(button)\n",
    "    .close_button(false)\n",
    "    .auto_close(false)\n",
    "    .close_on_escape_key(false)\n",
    "    .finalize();\n",
    "map.add_layer(popup);"
   ]
  },
  {
   "cell_type": "markdown",
   "metadata": {},
   "source": [
    "## Popup associated to a layer"
   ]
  },
  {
   "cell_type": "code",
   "execution_count": null,
   "metadata": {},
   "outputs": [],
   "source": [
    "marker.popup = html;"
   ]
  }
 ],
 "metadata": {
  "kernelspec": {
   "display_name": "C++14",
   "language": "C++14",
   "name": "xcpp14"
  },
  "language_info": {
   "codemirror_mode": "text/x-c++src",
   "file_extension": ".cpp",
   "mimetype": "text/x-c++src",
   "name": "c++",
   "version": "-std=c++14"
  }
 },
 "nbformat": 4,
 "nbformat_minor": 4
}
