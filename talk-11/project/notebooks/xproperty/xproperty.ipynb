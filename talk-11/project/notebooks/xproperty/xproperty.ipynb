{
 "cells": [
  {
   "cell_type": "markdown",
   "metadata": {},
   "source": [
    "![xproperty](images/xproperty.png)\n",
    "<center>C++ implementation of the observer pattern</center>"
   ]
  },
  {
   "cell_type": "code",
   "execution_count": null,
   "metadata": {},
   "outputs": [],
   "source": [
    "#include <iostream>\n",
    "#include <stdexcept>\n",
    "#include <string>\n",
    "\n",
    "#include \"xproperty/xobserved.hpp\"\n",
    "\n",
    "// We use the CRTP pattern for observed objects\n",
    "\n",
    "struct Foo : public xp::xobserved<Foo>\n",
    "{\n",
    "    XPROPERTY(double, Foo, bar);\n",
    "    XPROPERTY(std::string, Foo, baz);\n",
    "};"
   ]
  },
  {
   "cell_type": "markdown",
   "metadata": {},
   "source": [
    "## Registering an observer and a validator"
   ]
  },
  {
   "cell_type": "code",
   "execution_count": null,
   "metadata": {},
   "outputs": [],
   "source": [
    "Foo foo;\n",
    "\n",
    "XOBSERVE(foo, bar, [](const Foo& f) {\n",
    "    std::cout << \"Observer: New value of bar: \" << f.bar << std::endl;\n",
    "});\n",
    "\n",
    "XVALIDATE(foo, bar, [](Foo&, double proposal) {\n",
    "    std::cout << \"Validator: Proposal: \" << proposal << std::endl;\n",
    "    if (proposal < 0)\n",
    "    {\n",
    "        throw std::runtime_error(\"Only non-negative values are valid.\");\n",
    "    }\n",
    "    return proposal;\n",
    "});"
   ]
  },
  {
   "cell_type": "markdown",
   "metadata": {},
   "source": [
    "## Testing the validated and observed properties"
   ]
  },
  {
   "cell_type": "code",
   "execution_count": null,
   "metadata": {},
   "outputs": [],
   "source": [
    "foo.bar = 1.0;                          // Assigning a valid value\n",
    "                                        // The notifier prints \"Observer: New value of bar: 1\"\n",
    "std::cout << foo.bar << std::endl;      // Outputs 1.0\n",
    "\n",
    "try\n",
    "{\n",
    "    foo.bar = -1.0;                     // Assigning an invalid value\n",
    "}\n",
    "catch (...)\n",
    "{\n",
    "    std::cout << foo.bar << std::endl;  // Still outputs 1.0\n",
    "}"
   ]
  },
  {
   "cell_type": "markdown",
   "metadata": {},
   "source": [
    "## Shortcuts to link properties of observed objects"
   ]
  },
  {
   "cell_type": "code",
   "execution_count": null,
   "metadata": {},
   "outputs": [],
   "source": [
    "// Create two observed objects\n",
    "Foo source, target;\n",
    "source.bar = 1.0;\n",
    "\n",
    "// Link `source.bar` and `target.bar`\n",
    "XDLINK(source, bar, target, bar);\n",
    "\n",
    "source.bar = 2.0;\n",
    "std::cout << target.bar << std::endl;"
   ]
  },
  {
   "cell_type": "markdown",
   "metadata": {},
   "source": [
    "## Initialization"
   ]
  },
  {
   "cell_type": "code",
   "execution_count": null,
   "metadata": {},
   "outputs": [],
   "source": [
    "// Out of order initialization with method chaining on property names\n",
    "// Method chaining can only be done on rvalues.\n",
    "auto bat = Foo()\n",
    "    .baz(\"hello\");"
   ]
  },
  {
   "cell_type": "code",
   "execution_count": null,
   "metadata": {},
   "outputs": [],
   "source": [
    "foo.baz()"
   ]
  }
 ],
 "metadata": {
  "kernelspec": {
   "display_name": "C++14",
   "language": "C++14",
   "name": "xcpp14"
  },
  "language_info": {
   "codemirror_mode": "text/x-c++src",
   "file_extension": ".cpp",
   "mimetype": "text/x-c++src",
   "name": "c++",
   "version": "14"
  }
 },
 "nbformat": 4,
 "nbformat_minor": 2
}
